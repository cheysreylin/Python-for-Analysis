{
  "nbformat": 4,
  "nbformat_minor": 0,
  "metadata": {
    "colab": {
      "provenance": []
    },
    "kernelspec": {
      "name": "python3",
      "display_name": "Python 3"
    },
    "language_info": {
      "name": "python"
    },
    "accelerator": "GPU"
  },
  "cells": [
    {
      "cell_type": "code",
      "source": [
        "import pandas as pd"
      ],
      "metadata": {
        "id": "bE4VhVzqp1CK"
      },
      "execution_count": 1,
      "outputs": []
    },
    {
      "cell_type": "markdown",
      "source": [
        "# Write function to calculate the 6 matrixs below"
      ],
      "metadata": {
        "id": "E6X-tp1kVcxx"
      }
    },
    {
      "cell_type": "code",
      "source": [
        "# Mean '\n",
        "list = [1,2,3,4,5,6,7]\n",
        "def mean_func():\n",
        "    result = sum(list) / len(list)\n",
        "    print(result)\n",
        "\n",
        "mean_func()"
      ],
      "metadata": {
        "colab": {
          "base_uri": "https://localhost:8080/"
        },
        "id": "bVjOFcEa983A",
        "outputId": "90aa659f-3269-436d-f655-b0c7227a9dd4"
      },
      "execution_count": 2,
      "outputs": [
        {
          "output_type": "stream",
          "name": "stdout",
          "text": [
            "4.0\n"
          ]
        }
      ]
    },
    {
      "cell_type": "code",
      "source": [
        "# Median \n",
        "def median_func():\n",
        "    list = [1,2,3,4,5,6,7,8]\n",
        "    x = len(list)\n",
        "    list.sort()\n",
        "    if x % 2 == 0:\n",
        "        m1 = list[x//2]\n",
        "        m2 = list[x//2 - 1]\n",
        "        median = (m1 + m2)/2\n",
        "    else:\n",
        "        median = list[x//2]\n",
        "    print(f\"The median is {median}\")\n",
        "\n",
        "median_func()"
      ],
      "metadata": {
        "colab": {
          "base_uri": "https://localhost:8080/"
        },
        "id": "kiyoDTt_9-6e",
        "outputId": "4e821e42-ace4-4f2b-ce31-a0c699bafb36"
      },
      "execution_count": 3,
      "outputs": [
        {
          "output_type": "stream",
          "name": "stdout",
          "text": [
            "The median is 4.5\n"
          ]
        }
      ]
    },
    {
      "cell_type": "code",
      "source": [
        "# # Mode\n",
        "def mode_func(list):\n",
        "    dict = {}\n",
        "    for i in list:\n",
        "        if not i in dict:\n",
        "            dict[i] = 1 \n",
        "        else:\n",
        "            dict[i] += 1\n",
        "    print([a for a, b in dict.items() if b == max(dict.values())])   \n",
        "\n",
        "mode_func([1,2,3,4,5,6,7,8,3,2,2])"
      ],
      "metadata": {
        "id": "J_UcpA_P-Gqw",
        "colab": {
          "base_uri": "https://localhost:8080/"
        },
        "outputId": "7e3e8e76-346d-4e0a-fb00-c5a927d198e5"
      },
      "execution_count": 4,
      "outputs": [
        {
          "output_type": "stream",
          "name": "stdout",
          "text": [
            "[2]\n"
          ]
        }
      ]
    },
    {
      "cell_type": "code",
      "source": [
        "# Range : To find range, we take maximum value subtract with minimum value \n",
        "def range_func(list):\n",
        "    max_val = max(list)\n",
        "    min_val = min(list)\n",
        "    range_val = max_val - min_val \n",
        "    return print(range_val)\n",
        "\n",
        "range_func([1,2,3,4,5,6,7,8])"
      ],
      "metadata": {
        "id": "Tff_OTv0AIG_",
        "colab": {
          "base_uri": "https://localhost:8080/"
        },
        "outputId": "69aeaf3a-ade6-49cb-8064-acd6dea6b810"
      },
      "execution_count": 5,
      "outputs": [
        {
          "output_type": "stream",
          "name": "stdout",
          "text": [
            "7\n"
          ]
        }
      ]
    },
    {
      "cell_type": "code",
      "source": [
        "# Find variance \n",
        "def find_variance(list):\n",
        "    x = len(list)\n",
        "    mean_val = sum(list) / x \n",
        "    res = sum((i - mean_val)**2 for i in list) / x\n",
        "    print(res)\n",
        "    \n",
        "find_variance([1,2,3,4,5,6,7,8,3,2,2])"
      ],
      "metadata": {
        "id": "zjNG_oXxASMT",
        "colab": {
          "base_uri": "https://localhost:8080/"
        },
        "outputId": "cf232769-5eeb-447e-8f90-3a94281419bd"
      },
      "execution_count": 6,
      "outputs": [
        {
          "output_type": "stream",
          "name": "stdout",
          "text": [
            "4.809917355371901\n"
          ]
        }
      ]
    },
    {
      "cell_type": "code",
      "source": [
        "# Find standard deviation \n",
        "import math\n",
        "def standard_devia(list):\n",
        "    x = len(list)\n",
        "    mean_val = sum(list) / x \n",
        "    res = sum((i - mean_val)**2 for i in list) / x\n",
        "    std_dev = math.sqrt(res)\n",
        "    print(std_dev)\n",
        "\n",
        "standard_devia([1,2,3,4,5,6,7,8])"
      ],
      "metadata": {
        "colab": {
          "base_uri": "https://localhost:8080/"
        },
        "id": "a2yWYOX_AUv0",
        "outputId": "c199ac05-1635-4949-a32f-a81d8346336a"
      },
      "execution_count": 7,
      "outputs": [
        {
          "output_type": "stream",
          "name": "stdout",
          "text": [
            "2.29128784747792\n"
          ]
        }
      ]
    },
    {
      "cell_type": "code",
      "execution_count": 8,
      "metadata": {
        "colab": {
          "base_uri": "https://localhost:8080/",
          "height": 73
        },
        "id": "v64-gxd5pIvT",
        "outputId": "b725e05b-4ecb-4e69-85bb-e2db34b4ac98"
      },
      "outputs": [
        {
          "output_type": "display_data",
          "data": {
            "text/plain": [
              "<IPython.core.display.HTML object>"
            ],
            "text/html": [
              "\n",
              "     <input type=\"file\" id=\"files-294ae055-3822-492f-8b27-df2aae38abab\" name=\"files[]\" multiple disabled\n",
              "        style=\"border:none\" />\n",
              "     <output id=\"result-294ae055-3822-492f-8b27-df2aae38abab\">\n",
              "      Upload widget is only available when the cell has been executed in the\n",
              "      current browser session. Please rerun this cell to enable.\n",
              "      </output>\n",
              "      <script>// Copyright 2017 Google LLC\n",
              "//\n",
              "// Licensed under the Apache License, Version 2.0 (the \"License\");\n",
              "// you may not use this file except in compliance with the License.\n",
              "// You may obtain a copy of the License at\n",
              "//\n",
              "//      http://www.apache.org/licenses/LICENSE-2.0\n",
              "//\n",
              "// Unless required by applicable law or agreed to in writing, software\n",
              "// distributed under the License is distributed on an \"AS IS\" BASIS,\n",
              "// WITHOUT WARRANTIES OR CONDITIONS OF ANY KIND, either express or implied.\n",
              "// See the License for the specific language governing permissions and\n",
              "// limitations under the License.\n",
              "\n",
              "/**\n",
              " * @fileoverview Helpers for google.colab Python module.\n",
              " */\n",
              "(function(scope) {\n",
              "function span(text, styleAttributes = {}) {\n",
              "  const element = document.createElement('span');\n",
              "  element.textContent = text;\n",
              "  for (const key of Object.keys(styleAttributes)) {\n",
              "    element.style[key] = styleAttributes[key];\n",
              "  }\n",
              "  return element;\n",
              "}\n",
              "\n",
              "// Max number of bytes which will be uploaded at a time.\n",
              "const MAX_PAYLOAD_SIZE = 100 * 1024;\n",
              "\n",
              "function _uploadFiles(inputId, outputId) {\n",
              "  const steps = uploadFilesStep(inputId, outputId);\n",
              "  const outputElement = document.getElementById(outputId);\n",
              "  // Cache steps on the outputElement to make it available for the next call\n",
              "  // to uploadFilesContinue from Python.\n",
              "  outputElement.steps = steps;\n",
              "\n",
              "  return _uploadFilesContinue(outputId);\n",
              "}\n",
              "\n",
              "// This is roughly an async generator (not supported in the browser yet),\n",
              "// where there are multiple asynchronous steps and the Python side is going\n",
              "// to poll for completion of each step.\n",
              "// This uses a Promise to block the python side on completion of each step,\n",
              "// then passes the result of the previous step as the input to the next step.\n",
              "function _uploadFilesContinue(outputId) {\n",
              "  const outputElement = document.getElementById(outputId);\n",
              "  const steps = outputElement.steps;\n",
              "\n",
              "  const next = steps.next(outputElement.lastPromiseValue);\n",
              "  return Promise.resolve(next.value.promise).then((value) => {\n",
              "    // Cache the last promise value to make it available to the next\n",
              "    // step of the generator.\n",
              "    outputElement.lastPromiseValue = value;\n",
              "    return next.value.response;\n",
              "  });\n",
              "}\n",
              "\n",
              "/**\n",
              " * Generator function which is called between each async step of the upload\n",
              " * process.\n",
              " * @param {string} inputId Element ID of the input file picker element.\n",
              " * @param {string} outputId Element ID of the output display.\n",
              " * @return {!Iterable<!Object>} Iterable of next steps.\n",
              " */\n",
              "function* uploadFilesStep(inputId, outputId) {\n",
              "  const inputElement = document.getElementById(inputId);\n",
              "  inputElement.disabled = false;\n",
              "\n",
              "  const outputElement = document.getElementById(outputId);\n",
              "  outputElement.innerHTML = '';\n",
              "\n",
              "  const pickedPromise = new Promise((resolve) => {\n",
              "    inputElement.addEventListener('change', (e) => {\n",
              "      resolve(e.target.files);\n",
              "    });\n",
              "  });\n",
              "\n",
              "  const cancel = document.createElement('button');\n",
              "  inputElement.parentElement.appendChild(cancel);\n",
              "  cancel.textContent = 'Cancel upload';\n",
              "  const cancelPromise = new Promise((resolve) => {\n",
              "    cancel.onclick = () => {\n",
              "      resolve(null);\n",
              "    };\n",
              "  });\n",
              "\n",
              "  // Wait for the user to pick the files.\n",
              "  const files = yield {\n",
              "    promise: Promise.race([pickedPromise, cancelPromise]),\n",
              "    response: {\n",
              "      action: 'starting',\n",
              "    }\n",
              "  };\n",
              "\n",
              "  cancel.remove();\n",
              "\n",
              "  // Disable the input element since further picks are not allowed.\n",
              "  inputElement.disabled = true;\n",
              "\n",
              "  if (!files) {\n",
              "    return {\n",
              "      response: {\n",
              "        action: 'complete',\n",
              "      }\n",
              "    };\n",
              "  }\n",
              "\n",
              "  for (const file of files) {\n",
              "    const li = document.createElement('li');\n",
              "    li.append(span(file.name, {fontWeight: 'bold'}));\n",
              "    li.append(span(\n",
              "        `(${file.type || 'n/a'}) - ${file.size} bytes, ` +\n",
              "        `last modified: ${\n",
              "            file.lastModifiedDate ? file.lastModifiedDate.toLocaleDateString() :\n",
              "                                    'n/a'} - `));\n",
              "    const percent = span('0% done');\n",
              "    li.appendChild(percent);\n",
              "\n",
              "    outputElement.appendChild(li);\n",
              "\n",
              "    const fileDataPromise = new Promise((resolve) => {\n",
              "      const reader = new FileReader();\n",
              "      reader.onload = (e) => {\n",
              "        resolve(e.target.result);\n",
              "      };\n",
              "      reader.readAsArrayBuffer(file);\n",
              "    });\n",
              "    // Wait for the data to be ready.\n",
              "    let fileData = yield {\n",
              "      promise: fileDataPromise,\n",
              "      response: {\n",
              "        action: 'continue',\n",
              "      }\n",
              "    };\n",
              "\n",
              "    // Use a chunked sending to avoid message size limits. See b/62115660.\n",
              "    let position = 0;\n",
              "    do {\n",
              "      const length = Math.min(fileData.byteLength - position, MAX_PAYLOAD_SIZE);\n",
              "      const chunk = new Uint8Array(fileData, position, length);\n",
              "      position += length;\n",
              "\n",
              "      const base64 = btoa(String.fromCharCode.apply(null, chunk));\n",
              "      yield {\n",
              "        response: {\n",
              "          action: 'append',\n",
              "          file: file.name,\n",
              "          data: base64,\n",
              "        },\n",
              "      };\n",
              "\n",
              "      let percentDone = fileData.byteLength === 0 ?\n",
              "          100 :\n",
              "          Math.round((position / fileData.byteLength) * 100);\n",
              "      percent.textContent = `${percentDone}% done`;\n",
              "\n",
              "    } while (position < fileData.byteLength);\n",
              "  }\n",
              "\n",
              "  // All done.\n",
              "  yield {\n",
              "    response: {\n",
              "      action: 'complete',\n",
              "    }\n",
              "  };\n",
              "}\n",
              "\n",
              "scope.google = scope.google || {};\n",
              "scope.google.colab = scope.google.colab || {};\n",
              "scope.google.colab._files = {\n",
              "  _uploadFiles,\n",
              "  _uploadFilesContinue,\n",
              "};\n",
              "})(self);\n",
              "</script> "
            ]
          },
          "metadata": {}
        },
        {
          "output_type": "stream",
          "name": "stdout",
          "text": [
            "Saving Week 04 - 05 -  data.xlsx to Week 04 - 05 -  data.xlsx\n"
          ]
        }
      ],
      "source": [
        "from google.colab import files\n",
        "files = files.upload()"
      ]
    },
    {
      "cell_type": "code",
      "source": [
        "data = pd.read_excel(\"Week 04 - 05 -  data.xlsx\")\n",
        "data.head(5)"
      ],
      "metadata": {
        "colab": {
          "base_uri": "https://localhost:8080/",
          "height": 206
        },
        "id": "-r84IVKrsBTk",
        "outputId": "97a2a99b-abe5-4e03-c0dc-cd9a85dfbd37"
      },
      "execution_count": 9,
      "outputs": [
        {
          "output_type": "execute_result",
          "data": {
            "text/plain": [
              "   Person ID    Height    Weight\n",
              "0          1  65.78331  112.9925\n",
              "1          2  71.51521  136.4873\n",
              "2          3  69.39874  153.0269\n",
              "3          4  68.21660  142.3354\n",
              "4          5  67.78781  144.2971"
            ],
            "text/html": [
              "\n",
              "  <div id=\"df-d5f5da45-3041-4f0b-87ea-cf897b00a0e6\">\n",
              "    <div class=\"colab-df-container\">\n",
              "      <div>\n",
              "<style scoped>\n",
              "    .dataframe tbody tr th:only-of-type {\n",
              "        vertical-align: middle;\n",
              "    }\n",
              "\n",
              "    .dataframe tbody tr th {\n",
              "        vertical-align: top;\n",
              "    }\n",
              "\n",
              "    .dataframe thead th {\n",
              "        text-align: right;\n",
              "    }\n",
              "</style>\n",
              "<table border=\"1\" class=\"dataframe\">\n",
              "  <thead>\n",
              "    <tr style=\"text-align: right;\">\n",
              "      <th></th>\n",
              "      <th>Person ID</th>\n",
              "      <th>Height</th>\n",
              "      <th>Weight</th>\n",
              "    </tr>\n",
              "  </thead>\n",
              "  <tbody>\n",
              "    <tr>\n",
              "      <th>0</th>\n",
              "      <td>1</td>\n",
              "      <td>65.78331</td>\n",
              "      <td>112.9925</td>\n",
              "    </tr>\n",
              "    <tr>\n",
              "      <th>1</th>\n",
              "      <td>2</td>\n",
              "      <td>71.51521</td>\n",
              "      <td>136.4873</td>\n",
              "    </tr>\n",
              "    <tr>\n",
              "      <th>2</th>\n",
              "      <td>3</td>\n",
              "      <td>69.39874</td>\n",
              "      <td>153.0269</td>\n",
              "    </tr>\n",
              "    <tr>\n",
              "      <th>3</th>\n",
              "      <td>4</td>\n",
              "      <td>68.21660</td>\n",
              "      <td>142.3354</td>\n",
              "    </tr>\n",
              "    <tr>\n",
              "      <th>4</th>\n",
              "      <td>5</td>\n",
              "      <td>67.78781</td>\n",
              "      <td>144.2971</td>\n",
              "    </tr>\n",
              "  </tbody>\n",
              "</table>\n",
              "</div>\n",
              "      <button class=\"colab-df-convert\" onclick=\"convertToInteractive('df-d5f5da45-3041-4f0b-87ea-cf897b00a0e6')\"\n",
              "              title=\"Convert this dataframe to an interactive table.\"\n",
              "              style=\"display:none;\">\n",
              "        \n",
              "  <svg xmlns=\"http://www.w3.org/2000/svg\" height=\"24px\"viewBox=\"0 0 24 24\"\n",
              "       width=\"24px\">\n",
              "    <path d=\"M0 0h24v24H0V0z\" fill=\"none\"/>\n",
              "    <path d=\"M18.56 5.44l.94 2.06.94-2.06 2.06-.94-2.06-.94-.94-2.06-.94 2.06-2.06.94zm-11 1L8.5 8.5l.94-2.06 2.06-.94-2.06-.94L8.5 2.5l-.94 2.06-2.06.94zm10 10l.94 2.06.94-2.06 2.06-.94-2.06-.94-.94-2.06-.94 2.06-2.06.94z\"/><path d=\"M17.41 7.96l-1.37-1.37c-.4-.4-.92-.59-1.43-.59-.52 0-1.04.2-1.43.59L10.3 9.45l-7.72 7.72c-.78.78-.78 2.05 0 2.83L4 21.41c.39.39.9.59 1.41.59.51 0 1.02-.2 1.41-.59l7.78-7.78 2.81-2.81c.8-.78.8-2.07 0-2.86zM5.41 20L4 18.59l7.72-7.72 1.47 1.35L5.41 20z\"/>\n",
              "  </svg>\n",
              "      </button>\n",
              "      \n",
              "  <style>\n",
              "    .colab-df-container {\n",
              "      display:flex;\n",
              "      flex-wrap:wrap;\n",
              "      gap: 12px;\n",
              "    }\n",
              "\n",
              "    .colab-df-convert {\n",
              "      background-color: #E8F0FE;\n",
              "      border: none;\n",
              "      border-radius: 50%;\n",
              "      cursor: pointer;\n",
              "      display: none;\n",
              "      fill: #1967D2;\n",
              "      height: 32px;\n",
              "      padding: 0 0 0 0;\n",
              "      width: 32px;\n",
              "    }\n",
              "\n",
              "    .colab-df-convert:hover {\n",
              "      background-color: #E2EBFA;\n",
              "      box-shadow: 0px 1px 2px rgba(60, 64, 67, 0.3), 0px 1px 3px 1px rgba(60, 64, 67, 0.15);\n",
              "      fill: #174EA6;\n",
              "    }\n",
              "\n",
              "    [theme=dark] .colab-df-convert {\n",
              "      background-color: #3B4455;\n",
              "      fill: #D2E3FC;\n",
              "    }\n",
              "\n",
              "    [theme=dark] .colab-df-convert:hover {\n",
              "      background-color: #434B5C;\n",
              "      box-shadow: 0px 1px 3px 1px rgba(0, 0, 0, 0.15);\n",
              "      filter: drop-shadow(0px 1px 2px rgba(0, 0, 0, 0.3));\n",
              "      fill: #FFFFFF;\n",
              "    }\n",
              "  </style>\n",
              "\n",
              "      <script>\n",
              "        const buttonEl =\n",
              "          document.querySelector('#df-d5f5da45-3041-4f0b-87ea-cf897b00a0e6 button.colab-df-convert');\n",
              "        buttonEl.style.display =\n",
              "          google.colab.kernel.accessAllowed ? 'block' : 'none';\n",
              "\n",
              "        async function convertToInteractive(key) {\n",
              "          const element = document.querySelector('#df-d5f5da45-3041-4f0b-87ea-cf897b00a0e6');\n",
              "          const dataTable =\n",
              "            await google.colab.kernel.invokeFunction('convertToInteractive',\n",
              "                                                     [key], {});\n",
              "          if (!dataTable) return;\n",
              "\n",
              "          const docLinkHtml = 'Like what you see? Visit the ' +\n",
              "            '<a target=\"_blank\" href=https://colab.research.google.com/notebooks/data_table.ipynb>data table notebook</a>'\n",
              "            + ' to learn more about interactive tables.';\n",
              "          element.innerHTML = '';\n",
              "          dataTable['output_type'] = 'display_data';\n",
              "          await google.colab.output.renderOutput(dataTable, element);\n",
              "          const docLink = document.createElement('div');\n",
              "          docLink.innerHTML = docLinkHtml;\n",
              "          element.appendChild(docLink);\n",
              "        }\n",
              "      </script>\n",
              "    </div>\n",
              "  </div>\n",
              "  "
            ]
          },
          "metadata": {},
          "execution_count": 9
        }
      ]
    },
    {
      "cell_type": "markdown",
      "source": [
        "# Call 6 function above and apply on \"Height\" and \"Weight\""
      ],
      "metadata": {
        "id": "MPeXPaS1_Q3B"
      }
    },
    {
      "cell_type": "markdown",
      "source": [
        "# 1. Find mean, median, mode, range, variance, and standard deviation of attribute \"Height\""
      ],
      "metadata": {
        "id": "TLowLACB5G7L"
      }
    },
    {
      "cell_type": "code",
      "source": [
        "x = data[\"Height\"]\n",
        "print(x)"
      ],
      "metadata": {
        "colab": {
          "base_uri": "https://localhost:8080/"
        },
        "id": "L7GrUKrZDB0S",
        "outputId": "4fea3db2-336e-4b52-ccdf-1f3d14804155"
      },
      "execution_count": 10,
      "outputs": [
        {
          "output_type": "stream",
          "name": "stdout",
          "text": [
            "0      65.78331\n",
            "1      71.51521\n",
            "2      69.39874\n",
            "3      68.21660\n",
            "4      67.78781\n",
            "         ...   \n",
            "495    66.82802\n",
            "496    69.09424\n",
            "497    66.81425\n",
            "498    67.13183\n",
            "499    64.57428\n",
            "Name: Height, Length: 500, dtype: float64\n"
          ]
        }
      ]
    },
    {
      "cell_type": "code",
      "source": [
        "# Find Mean value of attribute \"Height\"\n",
        "def mean_func():\n",
        "    x = data[\"Height\"]\n",
        "    result = (sum(x) / len(x))\n",
        "    print(result)\n",
        "\n",
        "mean_func()"
      ],
      "metadata": {
        "colab": {
          "base_uri": "https://localhost:8080/"
        },
        "id": "yoDNk7IyAYvz",
        "outputId": "62182a05-e658-4fdb-d518-9617b3d9b8bd"
      },
      "execution_count": 11,
      "outputs": [
        {
          "output_type": "stream",
          "name": "stdout",
          "text": [
            "68.01137104\n"
          ]
        }
      ]
    },
    {
      "cell_type": "code",
      "source": [
        "# Find median value of attribute \"Height\"\n",
        "def median_func(data_height):\n",
        "    data_length = len(data[\"Height\"])\n",
        "    data_height.sort_values()\n",
        "    if data_length % 2 == 0:\n",
        "        m1 = data_height[data_length // 2]\n",
        "        m2 = data_height[data_length // 2 - 1]\n",
        "        median = (m1 + m2) / 2\n",
        "    else:\n",
        "        median = data_height[data_length // 2]\n",
        "    print(f\"The median is {median}\")\n",
        "\n",
        "median_func(data[\"Height\"])"
      ],
      "metadata": {
        "id": "KTQ3saErGEt6",
        "colab": {
          "base_uri": "https://localhost:8080/"
        },
        "outputId": "20966731-900d-4a0a-89eb-573e1f0424e8"
      },
      "execution_count": 12,
      "outputs": [
        {
          "output_type": "stream",
          "name": "stdout",
          "text": [
            "The median is 68.0185\n"
          ]
        }
      ]
    },
    {
      "cell_type": "code",
      "source": [
        "# # Find Mode value of attribute \"Height\"\n",
        "def mode_func(data_height):\n",
        "    dict = {}\n",
        "    for i in data_height:\n",
        "        if not i in dict:\n",
        "            dict[i] = 1 \n",
        "        else:\n",
        "            dict[i] += 1\n",
        "    print(f\"Mode value is: \", [a for a, b in dict.items() if b == max(dict.values())] )   \n",
        "\n",
        "\n",
        "mode_func(data[\"Height\"])"
      ],
      "metadata": {
        "colab": {
          "base_uri": "https://localhost:8080/"
        },
        "id": "q8LzbNrJ54th",
        "outputId": "3b8370f1-8433-444e-f32b-4f79d3cd20fb"
      },
      "execution_count": 13,
      "outputs": [
        {
          "output_type": "stream",
          "name": "stdout",
          "text": [
            "Mode value is:  [68.36275]\n"
          ]
        }
      ]
    },
    {
      "cell_type": "code",
      "source": [
        "# Finf range of attribute \"Height\"\n",
        "def range_func(data_height):\n",
        "    max_val = max(data_height)\n",
        "    min_val = min(data_height)\n",
        "    range_val = max_val - min_val \n",
        "    return print(range_val)\n",
        "\n",
        "range_func(data[\"Height\"])"
      ],
      "metadata": {
        "colab": {
          "base_uri": "https://localhost:8080/"
        },
        "id": "wGv99tih6RzE",
        "outputId": "002e14fd-4526-44b5-ac36-dce680d9d93d"
      },
      "execution_count": 14,
      "outputs": [
        {
          "output_type": "stream",
          "name": "stdout",
          "text": [
            "11.884410000000003\n"
          ]
        }
      ]
    },
    {
      "cell_type": "code",
      "source": [
        "# Find variance of attribute \"Height\"\n",
        "def find_variance(data_height):\n",
        "    data_length = len(data_height)\n",
        "    mean_val = sum(data_height) / data_length \n",
        "    res = sum((i - mean_val)**2 for i in data_height) / data_length\n",
        "    print(res)\n",
        "    \n",
        "find_variance(data[\"Height\"])"
      ],
      "metadata": {
        "colab": {
          "base_uri": "https://localhost:8080/"
        },
        "id": "UqagDDSI6-ue",
        "outputId": "da2ce530-bb1d-4ef5-cb04-81c75e648006"
      },
      "execution_count": 15,
      "outputs": [
        {
          "output_type": "stream",
          "name": "stdout",
          "text": [
            "3.6206988772909185\n"
          ]
        }
      ]
    },
    {
      "cell_type": "code",
      "source": [
        "# Find standard deviation of attribute \"Height\"\n",
        "import math\n",
        "def standard_devia(data_height):\n",
        "    data_length = len(data_height)\n",
        "    mean_val = sum(data_height) / data_length \n",
        "    res = sum((i - mean_val)**2 for i in data_height) / data_length\n",
        "    std_dev = math.sqrt(res)\n",
        "    print(std_dev)\n",
        "\n",
        "standard_devia(data[\"Height\"])"
      ],
      "metadata": {
        "colab": {
          "base_uri": "https://localhost:8080/"
        },
        "id": "bKqUBF6P7DTf",
        "outputId": "4dadc591-bbaf-41d8-fc1f-563105e61a37"
      },
      "execution_count": 16,
      "outputs": [
        {
          "output_type": "stream",
          "name": "stdout",
          "text": [
            "1.9028134110550405\n"
          ]
        }
      ]
    },
    {
      "cell_type": "markdown",
      "source": [
        "# 2. Find mean, median, mode, range, variance, and standard deviation of attribute \"Weight\""
      ],
      "metadata": {
        "id": "PBCO6q658NXr"
      }
    },
    {
      "cell_type": "code",
      "source": [
        "data[\"Weight\"]"
      ],
      "metadata": {
        "colab": {
          "base_uri": "https://localhost:8080/"
        },
        "id": "YfqYqexk8a7o",
        "outputId": "3dab6d77-4f4b-4c89-e57f-ac6fd894e150"
      },
      "execution_count": 17,
      "outputs": [
        {
          "output_type": "execute_result",
          "data": {
            "text/plain": [
              "0      112.9925\n",
              "1      136.4873\n",
              "2      153.0269\n",
              "3      142.3354\n",
              "4      144.2971\n",
              "         ...   \n",
              "495    142.1577\n",
              "496    127.1436\n",
              "497    122.3353\n",
              "498    112.6659\n",
              "499    134.2647\n",
              "Name: Weight, Length: 500, dtype: float64"
            ]
          },
          "metadata": {},
          "execution_count": 17
        }
      ]
    },
    {
      "cell_type": "code",
      "source": [
        "# Find Mean value of attribute \"Weight\"\n",
        "def mean_func():\n",
        "    x = data[\"Weight\"]\n",
        "    result = (sum(x) / len(x))\n",
        "    print(result)\n",
        "\n",
        "mean_func()"
      ],
      "metadata": {
        "colab": {
          "base_uri": "https://localhost:8080/"
        },
        "id": "Ja2vzKVg8ab_",
        "outputId": "5370ce3f-4c90-4664-a790-1b4fc51650a1"
      },
      "execution_count": 18,
      "outputs": [
        {
          "output_type": "stream",
          "name": "stdout",
          "text": [
            "127.21697513999996\n"
          ]
        }
      ]
    },
    {
      "cell_type": "code",
      "source": [
        "# Find median value of attribute \"Weight\"\n",
        "def median_func(data_Weight):\n",
        "    data_length = len(data[\"Weight\"])\n",
        "    data_Weight.sort_values()\n",
        "    if data_length % 2 == 0:\n",
        "        m1 = data_Weight[data_length // 2]\n",
        "        m2 = data_Weight[data_length // 2 - 1]\n",
        "        median = (m1 + m2) / 2\n",
        "    else:\n",
        "        median = data_Weight[data_length // 2]\n",
        "    print(median)\n",
        "\n",
        "median_func(data[\"Weight\"])"
      ],
      "metadata": {
        "colab": {
          "base_uri": "https://localhost:8080/"
        },
        "id": "Z2gP_blg8YO7",
        "outputId": "bff4efd9-af76-4119-8305-b4fc5ca8ed4e"
      },
      "execution_count": 19,
      "outputs": [
        {
          "output_type": "stream",
          "name": "stdout",
          "text": [
            "111.6496\n"
          ]
        }
      ]
    },
    {
      "cell_type": "code",
      "source": [
        "# # Find Mode value of attribute \"Weight\"\n",
        "def mode_func(data_Weight):\n",
        "    dict = {}\n",
        "    for i in data_Weight:\n",
        "        if not i in dict:\n",
        "            dict[i] = 1 \n",
        "        else:\n",
        "            dict[i] += 1\n",
        "    print(f\"Mode value is: \", [a for a, b in dict.items() if b == max(dict.values())] )   \n",
        "\n",
        "\n",
        "mode_func(data[\"Weight\"])"
      ],
      "metadata": {
        "colab": {
          "base_uri": "https://localhost:8080/"
        },
        "id": "-OLtfuVQ8VLQ",
        "outputId": "47920071-abbd-48a6-ecfb-5648a2032fdd"
      },
      "execution_count": 20,
      "outputs": [
        {
          "output_type": "stream",
          "name": "stdout",
          "text": [
            "Mode value is:  [112.9925, 136.4873, 153.0269, 142.3354, 144.2971, 123.3024, 141.4947, 136.4623, 112.3723, 120.6672, 127.4516, 114.143, 125.6107, 122.4618, 116.0866, 139.9975, 129.5023, 142.9733, 137.9025, 124.0449, 141.2807, 143.5392, 97.90191, 129.5027, 141.8501, 129.7244, 142.4235, 131.5502, 108.3324, 113.8922, 103.3016, 120.7536, 125.7886, 136.2225, 140.1015, 128.7487, 141.7994, 121.2319, 131.3478, 106.7115, 124.3598, 124.8591, 139.6711, 137.3696, 106.4499, 128.7639, 145.6837, 116.819, 143.6215, 134.9325, 147.0219, 126.3285, 125.4839, 115.7084, 123.4892, 147.8926, 155.8987, 128.0742, 119.3701, 133.8148, 128.7325, 137.5453, 129.7604, 128.824, 135.3165, 109.6113, 142.4684, 132.749, 103.5275, 124.7299, 129.3137, 134.0175, 140.3969, 102.8351, 128.5214, 120.2991, 138.6036, 132.9574, 115.6233, 122.524, 134.6254, 121.8986, 155.3767, 128.9418, 129.1013, 139.4733, 140.8901, 131.5916, 121.1232, 131.5127, 136.5479, 141.4896, 140.6104, 112.1413, 133.457, 131.8001, 120.0285, 123.0972, 128.1432, 115.4759, 102.0927, 130.353, 134.1842, 98.64133, 114.5599, 123.4917, 123.048, 126.4772, 128.417, 127.1941, 122.0562, 127.6064, 131.6423, 111.8955, 122.039, 128.5547, 132.6792, 136.0632, 115.9403, 136.9041, 119.8804, 109.0055, 128.2705, 135.2913, 106.8558, 123.2939, 109.5143, 119.3087, 140.2402, 133.9841, 132.5807, 130.6988, 115.5637, 123.7941, 128.1427, 135.9646, 116.6273, 126.8241, 151.3913, 130.4022, 136.2068, 113.3989, 125.3287, 127.5846, 107.1564, 116.4588, 133.8402, 112.8901, 130.7568, 137.7571, 125.4036, 138.4659, 120.8184, 140.1539, 136.7397, 106.1139, 158.9562, 108.7868, 138.7758, 115.9136, 146.2922, 109.8765, 139.0499, 119.9001, 128.3069, 127.2428, 115.2306, 124.7975, 126.9511, 111.2711, 122.6089, 124.2084, 124.6453, 119.5169, 139.2983, 104.8265, 123.0424, 118.8923, 121.4939, 119.2488, 135.0239, 116.228, 109.1731, 124.2237, 141.1645, 129.1501, 127.8693, 120.9244, 127.6466, 101.4693, 144.9927, 110.9523, 132.8625, 146.3385, 145.5894, 120.8431, 115.7813, 128.3019, 127.4718, 127.8761, 121.4997, 112.7148, 135.002, 128.6789, 124.4062, 140.026, 117.519, 143.8737, 141.1703, 155.9414, 134.0093, 130.0975, 106.2265, 112.0489, 136.1884, 131.236, 131.3231, 119.5261, 116.9965, 138.5255, 109.6518, 130.1569, 137.1114, 113.759, 114.9725, 127.7149, 121.9972, 117.9607, 127.7141, 117.9619, 125.1554, 141.1026, 145.4822, 116.065, 135.7458, 132.9248, 115.6622, 114.3184, 148.952, 142.1878, 134.104, 141.8926, 138.7444, 134.449, 117.0167, 115.6752, 134.7905, 120.5746, 120.0835, 84.3598, 138.9394, 143.5245, 123.1347, 115.5261, 120.9844, 120.6473, 124.0352, 117.2238, 127.9598, 116.7527, 121.9957, 123.9952, 108.855, 104.6574, 132.248, 127.1834, 125.1209, 133.322, 122.3364, 130.2636, 116.7431, 125.8534, 100.627, 118.4945, 137.1255, 118.6991, 124.1641, 124.9442, 126.3889, 121.5255, 133.2951, 127.4072, 125.08, 102.8114, 134.2212, 100.9758, 145.8886, 155.3046, 138.7175, 116.2611, 120.6087, 114.4083, 133.3406, 92.74955, 131.7825, 118.3865, 131.1466, 130.2033, 129.1836, 143.1445, 138.7307, 130.9528, 124.3032, 135.3702, 124.1988, 111.2389, 129.4037, 127.7444, 121.3311, 118.2183, 123.3441, 151.9118, 115.3108, 122.3844, 129.2323, 138.2824, 144.0565, 120.8482, 113.3034, 149.3227, 130.6373, 122.387, 133.8677, 134.8336, 137.8363, 112.6812, 121.1964, 114.9262, 110.3762, 126.0337, 118.7008, 119.3108, 150.7397, 121.1142, 118.4065, 142.759, 145.6305, 127.3425, 115.9678, 104.4441, 138.4905, 145.5049, 124.4065, 124.1866, 126.1659, 138.8125, 121.5515, 114.2555, 129.4022, 137.5583, 134.4996, 127.7103, 115.6709, 131.5906, 127.5839, 125.7211, 119.9885, 140.8676, 136.9164, 118.4759, 129.5516, 152.0714, 120.8646, 136.1027, 130.0611, 131.7743, 139.38, 168.229, 127.6446, 131.8008, 122.8561, 140.2133, 142.6929, 137.4299, 126.0392, 143.5985, 122.62, 108.6044, 100.6617, 116.1397, 140.5293, 125.6907, 134.3329, 136.4649, 127.8822, 123.1361, 116.3375, 124.5581, 125.7853, 107.5905, 143.0236, 118.7434, 118.9856, 131.8744, 119.3691, 126.1223, 126.6122, 113.5597, 115.8413, 130.2738, 125.4542, 117.1655, 137.3184, 149.4447, 151.0695, 116.9994, 138.1787, 127.621, 120.7514, 144.2537, 105.7939, 120.1567, 109.0848, 125.971, 110.2325, 134.4706, 115.5067, 125.1086, 116.4113, 133.3944, 108.7478, 134.3986, 131.2085, 130.8318, 127.0838, 119.4067, 105.5616, 134.4733, 132.6897, 126.058, 126.3532, 142.3603, 124.5873, 122.3604, 123.2298, 131.4049, 124.3037, 128.3836, 136.853, 118.0569, 121.4969, 119.2811, 126.5545, 129.2477, 134.7804, 146.0725, 162.4109, 130.1885, 132.1941, 127.4591, 125.3466, 134.7559, 121.9395, 125.6688, 145.956, 119.9207, 111.5093, 138.676, 135.0151, 116.509, 123.9575, 136.952, 153.0797, 126.357, 145.0614, 135.1739, 108.806, 110.5155, 138.2685, 119.5111, 115.3214, 132.3684, 93.99438, 127.4051, 134.3024, 124.9721, 124.072, 133.5476, 134.1509, 130.2489, 138.0935, 126.6064, 131.8076, 131.7363, 117.6261, 126.1943, 127.5132, 142.4785, 139.444, 110.3204, 131.9541, 129.2037, 124.3513, 126.5251, 149.2303, 142.1577, 127.1436, 122.3353, 112.6659, 134.2647]\n"
          ]
        }
      ]
    },
    {
      "cell_type": "code",
      "source": [
        "# Finf range of attribute \"Weight\"\n",
        "def range_func(data_Weight):\n",
        "    max_val = max(data_Weight)\n",
        "    min_val = min(data_Weight)\n",
        "    range_val = max_val - min_val \n",
        "    return print(range_val)\n",
        "\n",
        "range_func(data[\"Weight\"])"
      ],
      "metadata": {
        "colab": {
          "base_uri": "https://localhost:8080/"
        },
        "id": "i5ktF7I48TUU",
        "outputId": "ba8bdb7b-d6fa-4348-b5da-2ed0d1259099"
      },
      "execution_count": 21,
      "outputs": [
        {
          "output_type": "stream",
          "name": "stdout",
          "text": [
            "83.8692\n"
          ]
        }
      ]
    },
    {
      "cell_type": "code",
      "source": [
        "# Find variance of attribute \"Weight\"\n",
        "def find_variance(data_Weight):\n",
        "    data_length = len(data_Weight)\n",
        "    mean_val = sum(data_Weight) / data_length \n",
        "    res = sum((i - mean_val)**2 for i in data_Weight) / data_length\n",
        "    print(res)\n",
        "    \n",
        "find_variance(data[\"Weight\"])"
      ],
      "metadata": {
        "colab": {
          "base_uri": "https://localhost:8080/"
        },
        "id": "70nixobc8RrN",
        "outputId": "c1fef314-943c-459a-e882-8ce2ee4449ef"
      },
      "execution_count": 22,
      "outputs": [
        {
          "output_type": "stream",
          "name": "stdout",
          "text": [
            "141.34335457022982\n"
          ]
        }
      ]
    },
    {
      "cell_type": "code",
      "source": [
        "# Find standard deviation of attribute \"Weight\"\n",
        "import math\n",
        "def standard_devia(data_Weight):\n",
        "    data_length = len(data_Weight)\n",
        "    mean_val = sum(data_Weight) / data_length \n",
        "    res = sum((i - mean_val)**2 for i in data_Weight) / data_length\n",
        "    std_dev = math.sqrt(res)\n",
        "    print(std_dev)\n",
        "\n",
        "standard_devia(data[\"Weight\"])"
      ],
      "metadata": {
        "colab": {
          "base_uri": "https://localhost:8080/"
        },
        "id": "UgOkXmEi8O79",
        "outputId": "55e4b922-ca09-45d8-f974-36c9b0d26a9c"
      },
      "execution_count": 23,
      "outputs": [
        {
          "output_type": "stream",
          "name": "stdout",
          "text": [
            "11.888791131575566\n"
          ]
        }
      ]
    }
  ]
}