{
  "cells": [
    {
      "cell_type": "markdown",
      "metadata": {
        "id": "02de024c"
      },
      "source": [
        "# Numpy Excercises - Part 1 (required)"
      ],
      "id": "02de024c"
    },
    {
      "cell_type": "markdown",
      "metadata": {
        "id": "109da87a"
      },
      "source": [
        "Naming convention for Jupyter Notebook file :\n",
        "- WeekNumber_StudentID_StudentName_ExcerciseTitle\n",
        "- For example : 01_C2022020091_BornPheakdey_Numpy_Excersie\n",
        "\n",
        "Submit to : https://forms.gle/vFY7ziZ7mKiNERhF9"
      ],
      "id": "109da87a"
    },
    {
      "cell_type": "markdown",
      "metadata": {
        "id": "7f3190ea"
      },
      "source": [
        "### 0. Create a Numpy array"
      ],
      "id": "7f3190ea"
    },
    {
      "cell_type": "code",
      "execution_count": null,
      "metadata": {
        "id": "08a7a7d2",
        "outputId": "1bed6dcb-15b3-4a44-eaf7-6b4cd82a535d",
        "colab": {
          "base_uri": "https://localhost:8080/"
        }
      },
      "outputs": [
        {
          "output_type": "execute_result",
          "data": {
            "text/plain": [
              "array([1, 2, 3])"
            ]
          },
          "metadata": {},
          "execution_count": 2
        }
      ],
      "source": [
        "import numpy as np\n",
        "np.array([1,2,3])"
      ],
      "id": "08a7a7d2"
    },
    {
      "cell_type": "markdown",
      "metadata": {
        "id": "1f62299b"
      },
      "source": [
        "### 1. Show your Numpy version"
      ],
      "id": "1f62299b"
    },
    {
      "cell_type": "code",
      "execution_count": null,
      "metadata": {
        "colab": {
          "base_uri": "https://localhost:8080/"
        },
        "id": "871cc72f",
        "outputId": "f95583f0-78d1-4b58-d679-ca1a0207520d"
      },
      "outputs": [
        {
          "output_type": "stream",
          "name": "stdout",
          "text": [
            "1.21.6\n"
          ]
        }
      ],
      "source": [
        "import numpy as np\n",
        "print(np.__version__)"
      ],
      "id": "871cc72f"
    },
    {
      "cell_type": "markdown",
      "metadata": {
        "id": "ac1f3854"
      },
      "source": [
        "### 2. Given 2 array below, check to see if these 2 array contain zero"
      ],
      "id": "ac1f3854"
    },
    {
      "cell_type": "code",
      "execution_count": null,
      "metadata": {
        "colab": {
          "base_uri": "https://localhost:8080/"
        },
        "id": "ad5ab5f2",
        "outputId": "58cbcd59-4e6a-4e84-93b9-b78bed87ad11"
      },
      "outputs": [
        {
          "output_type": "stream",
          "name": "stdout",
          "text": [
            "True\n",
            "False\n"
          ]
        }
      ],
      "source": [
        "a = np.array([1, 2, 3, 4])\n",
        "b = np.array([1, 2, 3, 0])\n",
        "print(np.all(a))\n",
        "print(np.all(b))"
      ],
      "id": "ad5ab5f2"
    },
    {
      "cell_type": "markdown",
      "metadata": {
        "id": "6cbc9608"
      },
      "source": [
        "### 3. Write a function to test if an array contains NaN"
      ],
      "id": "6cbc9608"
    },
    {
      "cell_type": "code",
      "execution_count": null,
      "metadata": {
        "id": "65dd50eb",
        "colab": {
          "base_uri": "https://localhost:8080/",
          "height": 35
        },
        "outputId": "aba5ab5c-8b60-447f-add3-a73fb8fac1f2"
      },
      "outputs": [
        {
          "output_type": "execute_result",
          "data": {
            "text/plain": [
              "'Array contain Nan value'"
            ],
            "application/vnd.google.colaboratory.intrinsic+json": {
              "type": "string"
            }
          },
          "metadata": {},
          "execution_count": 5
        }
      ],
      "source": [
        "def find_Nan(array):\n",
        "  if (np.isnan(array).any()):\n",
        "    return \"Array contain Nan value\"\n",
        "  else:\n",
        "    return \"Array doesn't contain Nan value\"\n",
        "\n",
        "array = [3, 1, 6, 4, 8, np.NaN, 4]\n",
        "find_Nan(array)"
      ],
      "id": "65dd50eb"
    },
    {
      "cell_type": "markdown",
      "metadata": {
        "id": "a01cff53"
      },
      "source": [
        "### 4. Write a function to check if 2 array are equal. The function should return True if they are equal and False if they are not"
      ],
      "id": "a01cff53"
    },
    {
      "cell_type": "code",
      "execution_count": null,
      "metadata": {
        "id": "468e3718",
        "colab": {
          "base_uri": "https://localhost:8080/"
        },
        "outputId": "527a14f4-820d-41a8-e20b-9b065b2ffc0b"
      },
      "outputs": [
        {
          "output_type": "stream",
          "name": "stdout",
          "text": [
            "Array are equal\n"
          ]
        }
      ],
      "source": [
        "def equal_array(arr1, arr2, l_a1, l_a2):\n",
        "\tif (l_a1 != l_a2):\n",
        "\t\treturn False\n",
        "\n",
        "\tarr1.sort()\n",
        "\tarr2.sort()\n",
        " \n",
        "\tfor i in range(l_a1):\n",
        "\t\tif (arr1[i] != arr2[i]):\n",
        "\t\t\treturn False\n",
        "\treturn True\n",
        "\n",
        "arr1 = [3,6,2,4,1,0,7,9]\n",
        "arr2 = [4,9,0,7,1,6,2,3]\n",
        "l_a1 = len(arr1)\n",
        "l_a2 = len(arr2)\n",
        "\n",
        "if (equal_array(arr1, arr2, l_a1, l_a2)):\n",
        "  print(\"Array are equal\")\n",
        "else:\n",
        "  print(\"Array are not equal\")\n",
        "\n"
      ],
      "id": "468e3718"
    },
    {
      "cell_type": "markdown",
      "metadata": {
        "id": "b8a75a2f"
      },
      "source": [
        "### 5. Create array of 3 zeros, 3 ones, 3 fours. (There should be 3 different array)"
      ],
      "id": "b8a75a2f"
    },
    {
      "cell_type": "code",
      "execution_count": null,
      "metadata": {
        "id": "cbf499a6",
        "colab": {
          "base_uri": "https://localhost:8080/"
        },
        "outputId": "de0226c2-5866-4695-e02c-6797386765c2"
      },
      "outputs": [
        {
          "output_type": "stream",
          "name": "stdout",
          "text": [
            "[0. 0. 0.]\n",
            "[1. 1. 1.]\n",
            "[4. 4. 4.]\n"
          ]
        }
      ],
      "source": [
        "a1 = np.zeros(3)\n",
        "print(a1)\n",
        "\n",
        "a2 = np.ones(3)\n",
        "print(a2)\n",
        "\n",
        "a3 = np.array([4,4,4], dtype= float)\n",
        "print(a3)"
      ],
      "id": "cbf499a6"
    },
    {
      "cell_type": "markdown",
      "metadata": {
        "id": "eeaad3b1"
      },
      "source": [
        "### 6. Creat 2D array of size 3x4"
      ],
      "id": "eeaad3b1"
    },
    {
      "cell_type": "code",
      "execution_count": null,
      "metadata": {
        "id": "f2f3de1a",
        "colab": {
          "base_uri": "https://localhost:8080/"
        },
        "outputId": "c5691220-01e1-4b00-feca-96c9948da634"
      },
      "outputs": [
        {
          "output_type": "stream",
          "name": "stdout",
          "text": [
            "(3, 4)\n"
          ]
        }
      ],
      "source": [
        "array = np.array([[1,2,3,4],\n",
        "                  [4,5,6,7],\n",
        "                  [7,8,9,10]])\n",
        "print(array.shape)"
      ],
      "id": "f2f3de1a"
    },
    {
      "cell_type": "markdown",
      "metadata": {
        "id": "ad23f97c"
      },
      "source": [
        "### 7. Write a function that compute sum of all elements in an array. Note : the array can be any dimension."
      ],
      "id": "ad23f97c"
    },
    {
      "cell_type": "code",
      "execution_count": null,
      "metadata": {
        "id": "ff4955fc",
        "colab": {
          "base_uri": "https://localhost:8080/"
        },
        "outputId": "8727610e-1d99-49e2-8863-46ccd0b4e0f3"
      },
      "outputs": [
        {
          "output_type": "execute_result",
          "data": {
            "text/plain": [
              "27"
            ]
          },
          "metadata": {},
          "execution_count": 9
        }
      ],
      "source": [
        "def sum_element(array):\n",
        "  result = np.sum(array)\n",
        "  return result\n",
        "\n",
        "array = np.array([[1,2,3],\n",
        "                  [2,3,4],\n",
        "                  [3,4,5]])\n",
        "sum_element(array)"
      ],
      "id": "ff4955fc"
    },
    {
      "cell_type": "markdown",
      "metadata": {
        "id": "81ae90f4"
      },
      "source": [
        "### 8. Call the function in question #7 with 1D array, 2D array and 3D array. Note : you have to call the function 3 times"
      ],
      "id": "81ae90f4"
    },
    {
      "cell_type": "code",
      "execution_count": null,
      "metadata": {
        "id": "d63c9568",
        "colab": {
          "base_uri": "https://localhost:8080/"
        },
        "outputId": "e4066acb-05c7-4e70-ffae-495f67990a59"
      },
      "outputs": [
        {
          "output_type": "stream",
          "name": "stdout",
          "text": [
            "[ 0  1  2  3  4  5  6  7  8  9 10 11]\n",
            "[[ 0  1  2  3  4  5]\n",
            " [ 6  7  8  9 10 11]]\n"
          ]
        },
        {
          "output_type": "execute_result",
          "data": {
            "text/plain": [
              "66"
            ]
          },
          "metadata": {},
          "execution_count": 10
        }
      ],
      "source": [
        "# 1D array\n",
        "array = np.arange(12)\n",
        "print(array)\n",
        "sum_element(array)\n",
        "\n",
        "# 2D array\n",
        "array.shape = (2,6)\n",
        "print(array)\n",
        "sum_element(array)\n",
        "\n",
        "# 3D array\n",
        "array.shape = (3,4)\n",
        "sum_element(array)\n"
      ],
      "id": "d63c9568"
    },
    {
      "cell_type": "markdown",
      "metadata": {
        "id": "e7cbf808"
      },
      "source": [
        "### 9. Write a function "
      ],
      "id": "e7cbf808"
    },
    {
      "cell_type": "code",
      "execution_count": null,
      "metadata": {
        "id": "216334ad",
        "colab": {
          "base_uri": "https://localhost:8080/"
        },
        "outputId": "73099446-807d-4074-cba9-6baba6048472"
      },
      "outputs": [
        {
          "output_type": "execute_result",
          "data": {
            "text/plain": [
              "6"
            ]
          },
          "metadata": {},
          "execution_count": 11
        }
      ],
      "source": [
        "def my_Function():\n",
        "  a = 2\n",
        "  b = 3\n",
        "  c = a*b \n",
        "  return c\n",
        "\n",
        "my_Function()"
      ],
      "id": "216334ad"
    },
    {
      "cell_type": "markdown",
      "metadata": {
        "id": "f6d4e032"
      },
      "source": [
        "### 10. Create a 2D array with shape 3x4 of random numbers"
      ],
      "id": "f6d4e032"
    },
    {
      "cell_type": "code",
      "execution_count": null,
      "metadata": {
        "id": "648a3307",
        "colab": {
          "base_uri": "https://localhost:8080/"
        },
        "outputId": "f1a70241-e2f5-41af-fe60-922c45c22d7b"
      },
      "outputs": [
        {
          "output_type": "stream",
          "name": "stdout",
          "text": [
            "[[0.00542102 0.62939635 0.1152519  0.47089241]\n",
            " [0.45307572 0.47951856 0.7887186  0.61206529]\n",
            " [0.57753394 0.76959676 0.63412846 0.14456484]]\n"
          ]
        }
      ],
      "source": [
        "import numpy.matlib as ml\n",
        "array_2D = np.array(ml.rand(3,4)) \n",
        "print(array_2D)"
      ],
      "id": "648a3307"
    },
    {
      "cell_type": "markdown",
      "metadata": {
        "id": "e6643d8a"
      },
      "source": [
        "### 11. Ceate a function to extract all numbers from a given array which are greater than a specified number. (function header is given below)"
      ],
      "id": "e6643d8a"
    },
    {
      "cell_type": "code",
      "execution_count": null,
      "metadata": {
        "id": "d57fa564",
        "colab": {
          "base_uri": "https://localhost:8080/"
        },
        "outputId": "73488954-e299-4a8f-a554-c5a55aff3e35"
      },
      "outputs": [
        {
          "output_type": "stream",
          "name": "stdout",
          "text": [
            "6\n",
            "7\n"
          ]
        }
      ],
      "source": [
        "def extract_from_array(array, number):\n",
        "    for i in array:\n",
        "      if i > number:\n",
        "        print(i)\n",
        "\n",
        "array = np.array([1,2,3,4,5,6,7])\n",
        "number = 5\n",
        "extract_from_array(array, number)"
      ],
      "id": "d57fa564"
    },
    {
      "cell_type": "markdown",
      "metadata": {
        "id": "77751ad0"
      },
      "source": [
        "### 12. Write a function to swap rows and columns of a given array"
      ],
      "id": "77751ad0"
    },
    {
      "cell_type": "code",
      "execution_count": null,
      "metadata": {
        "id": "083300f2",
        "colab": {
          "base_uri": "https://localhost:8080/"
        },
        "outputId": "45634f32-b621-4c72-b83a-ae7ffbeab53f"
      },
      "outputs": [
        {
          "output_type": "execute_result",
          "data": {
            "text/plain": [
              "array([[1, 2, 3],\n",
              "       [1, 2, 3],\n",
              "       [1, 2, 3]])"
            ]
          },
          "metadata": {},
          "execution_count": 15
        }
      ],
      "source": [
        "def swap_R_C(array):\n",
        "  new_array = np.transpose(array)\n",
        "  return new_array\n",
        "\n",
        "\n",
        "array = np.array([[1,1,1],\n",
        "         [2,2,2],\n",
        "         [3,3,3]])\n",
        "swap_R_C(array)"
      ],
      "id": "083300f2"
    },
    {
      "cell_type": "markdown",
      "metadata": {
        "id": "de034e55"
      },
      "source": [
        "### 13. Compute the mean, standard deviation, and variance of a given array "
      ],
      "id": "de034e55"
    },
    {
      "cell_type": "code",
      "execution_count": null,
      "metadata": {
        "id": "20f7c1c3",
        "colab": {
          "base_uri": "https://localhost:8080/"
        },
        "outputId": "03d4a8bb-7b4e-44cf-98c0-63d91148f54a"
      },
      "outputs": [
        {
          "output_type": "stream",
          "name": "stdout",
          "text": [
            "3.0\n",
            "1.4142135623730951\n",
            "2.0\n"
          ]
        }
      ],
      "source": [
        "array = np.array([1,2,3,4,5])\n",
        "mean_val = np.mean(array)\n",
        "print(mean_val)\n",
        "\n",
        "standard_deviation = np.std(array)\n",
        "print(standard_deviation)\n",
        "\n",
        "variance_val = np.var(array)\n",
        "print(variance_val)"
      ],
      "id": "20f7c1c3"
    },
    {
      "cell_type": "markdown",
      "metadata": {
        "id": "6139bcfb"
      },
      "source": [
        "### 14. Ceate a function to flatten and calculate the medain of an array. Note : you can not use the built-in \"numpy.median\" function. Flatten means convert multi-deminsion array to 1 dimenstion array."
      ],
      "id": "6139bcfb"
    },
    {
      "cell_type": "code",
      "execution_count": null,
      "metadata": {
        "id": "417ceaef",
        "colab": {
          "base_uri": "https://localhost:8080/"
        },
        "outputId": "df5c6eb3-8709-474b-ac97-51017bdacbaa"
      },
      "outputs": [
        {
          "output_type": "execute_result",
          "data": {
            "text/plain": [
              "('Median of array is: ', 5)"
            ]
          },
          "metadata": {},
          "execution_count": 17
        }
      ],
      "source": [
        "def function(array):\n",
        "  # Flatten the array\n",
        "  array = array.flatten()\n",
        "  # calculate the median of the array , => To find median, we have to sort the array first\n",
        "  array = np.sort(array)\n",
        "\n",
        "  if len(array) % 2 == 0:\n",
        "    m1 = array[len(array)//2]\n",
        "    m2 = array[len(array)//2 - 1]\n",
        "    median = (m1+m2) / 2\n",
        "  else:\n",
        "    median = array[len(array)//2]\n",
        "\n",
        "  return (\"Median of array is: \",median)\n",
        "\n",
        "\n",
        "array = np.array([[1,3,2],\n",
        "                  [4,6,5],\n",
        "                  [7,9,8]])\n",
        "function(array)\n"
      ],
      "id": "417ceaef"
    },
    {
      "cell_type": "markdown",
      "metadata": {
        "id": "bab27c3d"
      },
      "source": [
        "# Numpy Excercises - Part 2 (optional with bonus)"
      ],
      "id": "bab27c3d"
    },
    {
      "cell_type": "markdown",
      "metadata": {
        "id": "109d8f2c"
      },
      "source": [
        "### 15. Ceate a function to count the number of occurrences of each value in a given array of non-negative integers. The function must return a dictionary of key as the values and value as the number of occurrences.\n",
        "\n",
        "> Indented block\n",
        "\n"
      ],
      "id": "109d8f2c"
    },
    {
      "cell_type": "code",
      "execution_count": null,
      "metadata": {
        "id": "4777d266",
        "colab": {
          "base_uri": "https://localhost:8080/"
        },
        "outputId": "88ece2ac-7194-4776-db40-bac72a54e3d6"
      },
      "outputs": [
        {
          "output_type": "stream",
          "name": "stdout",
          "text": [
            " 2 :  2\n",
            " 1 :  3\n",
            " 3 :  1\n",
            " 4 :  2\n",
            " 5 :  2\n",
            " 6 :  1\n",
            " 7 :  1\n"
          ]
        }
      ],
      "source": [
        "\n",
        "def find_occurr(array):\n",
        "  # create empty dictionary \n",
        "  dic = {}\n",
        "  for i in array:\n",
        "    dic[i] = array.count(i)\n",
        "  for key, value in dic.items():\n",
        "    print (\"% d : % d\"%(key, value))\n",
        "\n",
        "array = [2,1,3,1,4,2,5,1,6,7,4,5]\n",
        "find_occurr(array)"
      ],
      "id": "4777d266"
    }
  ],
  "metadata": {
    "accelerator": "GPU",
    "colab": {
      "provenance": []
    },
    "kernelspec": {
      "display_name": "Python 3",
      "language": "python",
      "name": "python3"
    },
    "language_info": {
      "codemirror_mode": {
        "name": "ipython",
        "version": 3
      },
      "file_extension": ".py",
      "mimetype": "text/x-python",
      "name": "python",
      "nbconvert_exporter": "python",
      "pygments_lexer": "ipython3",
      "version": "3.8.8"
    }
  },
  "nbformat": 4,
  "nbformat_minor": 5
}