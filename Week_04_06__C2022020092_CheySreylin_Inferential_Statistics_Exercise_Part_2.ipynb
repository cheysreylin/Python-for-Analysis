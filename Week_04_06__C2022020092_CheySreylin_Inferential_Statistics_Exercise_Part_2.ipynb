{
  "cells": [
    {
      "cell_type": "markdown",
      "id": "5f706bf8",
      "metadata": {
        "id": "5f706bf8"
      },
      "source": [
        "# Inferential Statistics Exercise - Part 2"
      ]
    },
    {
      "cell_type": "markdown",
      "id": "4794c467",
      "metadata": {
        "id": "4794c467"
      },
      "source": [
        "### 1. In 2021, GTI students test score is 80 points on average with standard deviation of 10 points. In 2022, we test 20 students and they get 85 points on average. Have our students improve ?\n",
        "### State Null and Alernative Hypothesis and write Python code to calucate z-score and p-value, compare then and then make decision whether or not we can reject Null Hypothesis.  (confidence level = 95%)"
      ]
    },
    {
      "cell_type": "markdown",
      "source": [
        "- Null Hypothesis (H0) : mean = 80 points\n",
        "- Alternative Hypothesis (Ha): mean != 80 points\n",
        "- Number of Sample (N) : 20 \n",
        "- Level of Confidence (C) : 0.95%\n",
        "- Level of Significance (α) = 1 - (0.95) = 0.05"
      ],
      "metadata": {
        "id": "4WHfQtel5rmS"
      },
      "id": "4WHfQtel5rmS"
    },
    {
      "cell_type": "code",
      "execution_count": 13,
      "id": "05a041d5",
      "metadata": {
        "colab": {
          "base_uri": "https://localhost:8080/"
        },
        "id": "05a041d5",
        "outputId": "3cca510e-0e7f-492f-9e9a-7c016ea490fa"
      },
      "outputs": [
        {
          "output_type": "stream",
          "name": "stdout",
          "text": [
            "0.050000000000000044\n",
            "2.23606797749979\n",
            "0.012673659338734126\n",
            "Reject Null Hypothesis, Student have improve!\n"
          ]
        }
      ],
      "source": [
        "# Write python code to calculate z-score and p-value \n",
        "import scipy\n",
        "import scipy.stats as stats \n",
        "import math\n",
        "\n",
        "std = 10\n",
        "N_Hypothesis = 80 \n",
        "A_Hypothesis = 85\n",
        "N_sample = 20\n",
        "l_confidence = 0.95\n",
        "l_significance = 1 - l_confidence\n",
        "print(l_significance)\n",
        "\n",
        "# z-score\n",
        "z_score = (A_Hypothesis-N_Hypothesis) / (std / math.sqrt(N_sample))\n",
        "print(z_score)\n",
        "\n",
        "# p-value\n",
        "p_value = scipy.stats.norm.sf(abs(z_score))\n",
        "print(p_value)\n",
        "if p_value <= l_significance:\n",
        "    print(\"Reject Null Hypothesis, Student have improve!\")\n",
        "else:\n",
        "    print(\"Fail to reject Null Hypothesis,  Student have not improve!\")"
      ]
    },
    {
      "cell_type": "markdown",
      "id": "0f2c935c",
      "metadata": {
        "id": "0f2c935c"
      },
      "source": [
        "### 2. A car manufacturing company has a high defect rate of 23%. After improving the factory, the CEO of the company ask us to prove that the defect rate has decreased to under 18%. We have check 150 cars and found that 23 cars have defects. (confidence level = 95%)\n",
        "### State Null and Alernative Hypothesis and write Python code to calucate z-score and p-value and to prove that the defect rate has decreased to under 18%."
      ]
    },
    {
      "cell_type": "markdown",
      "source": [
        "- Null Hypothesis (H0) : Defect rate <= 23%\n",
        "- Alternative Hypothesis (Ha): Defect rate < 18%\n",
        "- Number of Sample (N) : 150\n",
        "- Level of Confidence (C) : 0.95\n",
        "- Level of Significance (α) = 1 - (0.95) = 0.05"
      ],
      "metadata": {
        "id": "OMsug8i1Yq3k"
      },
      "id": "OMsug8i1Yq3k"
    },
    {
      "cell_type": "code",
      "execution_count": 14,
      "id": "3d7c5b9c",
      "metadata": {
        "id": "3d7c5b9c",
        "colab": {
          "base_uri": "https://localhost:8080/"
        },
        "outputId": "e6ca753f-5a91-468c-9538-6c36bd576d64"
      },
      "outputs": [
        {
          "output_type": "stream",
          "name": "stdout",
          "text": [
            "0.050000000000000044\n",
            "-1.5947198846244652\n",
            "0.0553874446914794\n",
            "Fail to reject Null Hypothesis, defect rate has not decreased to under 18%.\n"
          ]
        }
      ],
      "source": [
        "std = 0.384\n",
        "N_Hypothesis = 0.23\n",
        "A_Hypothesis = 0.18\n",
        "N_sample = 150\n",
        "l_confidence = 0.95\n",
        "l_significance = 1 - l_confidence\n",
        "print(l_significance)\n",
        "\n",
        "# z-score\n",
        "z_score = (A_Hypothesis-N_Hypothesis) / (std / math.sqrt(N_sample))\n",
        "print(z_score)\n",
        "\n",
        "# p-value\n",
        "p_value = scipy.stats.norm.sf(abs(z_score))\n",
        "print(p_value)\n",
        "if p_value <= l_significance:\n",
        "    print(\"Reject Null Hypothesis, defect rate has decreased to under 18%.\")\n",
        "else:\n",
        "    print(\"Fail to reject Null Hypothesis, defect rate has not decreased to under 18%.\")"
      ]
    }
  ],
  "metadata": {
    "kernelspec": {
      "display_name": "Python 3",
      "language": "python",
      "name": "python3"
    },
    "language_info": {
      "codemirror_mode": {
        "name": "ipython",
        "version": 3
      },
      "file_extension": ".py",
      "mimetype": "text/x-python",
      "name": "python",
      "nbconvert_exporter": "python",
      "pygments_lexer": "ipython3",
      "version": "3.8.8"
    },
    "colab": {
      "provenance": []
    },
    "accelerator": "GPU"
  },
  "nbformat": 4,
  "nbformat_minor": 5
}